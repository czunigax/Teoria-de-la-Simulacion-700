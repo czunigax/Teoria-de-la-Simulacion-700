{
  "metadata": {
    "kernelspec": {
      "name": "python",
      "display_name": "Python (Pyodide)",
      "language": "python"
    },
    "language_info": {
      "codemirror_mode": {
        "name": "python",
        "version": 3
      },
      "file_extension": ".py",
      "mimetype": "text/x-python",
      "name": "python",
      "nbconvert_exporter": "python",
      "pygments_lexer": "ipython3",
      "version": "3.8"
    }
  },
  "nbformat_minor": 4,
  "nbformat": 4,
  "cells": [
    {
      "cell_type": "code",
      "source": "import pandas as pd\nimport random\nimport numpy as np",
      "metadata": {
        "trusted": true
      },
      "outputs": [],
      "execution_count": 3
    },
    {
      "cell_type": "markdown",
      "source": "Definicion de los productos y sus respectivos valores",
      "metadata": {}
    },
    {
      "cell_type": "code",
      "source": "productos=['Cemitas','Pan de Pan','Pastelitos','Polvoron','Pan Molde','Rosquillas','Rosquetes']\nvalor={'Cemitas':3,'Pan de Pan':25,'Pastelitos':6,'Polvoron':2,'Pan Molde':45,'Rosquillas':1,'Rosquetes':3}",
      "metadata": {
        "trusted": true
      },
      "outputs": [],
      "execution_count": 4
    },
    {
      "cell_type": "markdown",
      "source": "Generamos los datos aleatorios usando random, choice y randInt para colocar la cantidad del producto\ncomo un entero aleatorio dentro de un rango especifico. ussando una variable llamado registros con valor de 3000 que nos servira para poder generar una lista por cada valor respectivo.",
      "metadata": {}
    },
    {
      "cell_type": "code",
      "source": "registros=3000\n\npro_aleatorio=[random.choice(productos) for _ in range (registros)]\ncant_aleatoria=[random.randint(1,100) for _ in range (registros)]\nprecioUnit=[valor[v] for v in pro_aleatorio]\ntotal_venta=[cant_aleatoria[i]*precioUnit[i] for i in range (registros)]",
      "metadata": {
        "trusted": true
      },
      "outputs": [],
      "execution_count": 11
    },
    {
      "cell_type": "markdown",
      "source": "Una vez con los valores creados se procedera a crear el DataFrame donde colocaremos en la izquierda el nombre de la columna \ny le asignaremos sus respectivos valores en este caso las listas generadas anteriormente.",
      "metadata": {}
    },
    {
      "cell_type": "code",
      "source": "df=pd.DataFrame({\n'Producto':pro_aleatorio,\n'Cantidad':cant_aleatoria,\n'Precio':precioUnit,\n'Cantidad de la Venta':total_venta    \n})",
      "metadata": {
        "trusted": true
      },
      "outputs": [],
      "execution_count": 13
    },
    {
      "cell_type": "code",
      "source": "print(df)",
      "metadata": {
        "trusted": true
      },
      "outputs": [
        {
          "name": "stdout",
          "text": "        Producto  Cantidad  Precio  Cantidad de la Venta\n0     Rosquillas        89       1                    89\n1       Polvoron        24       2                    48\n2     Rosquillas        67       1                    67\n3     Rosquillas        28       1                    28\n4      Rosquetes        60       3                   180\n...          ...       ...     ...                   ...\n2995   Pan Molde        82      45                  3690\n2996  Pan de Pan        64      25                  1600\n2997   Rosquetes        50       3                   150\n2998   Rosquetes        46       3                   138\n2999    Polvoron        96       2                   192\n\n[3000 rows x 4 columns]\n",
          "output_type": "stream"
        }
      ],
      "execution_count": 14
    },
    {
      "cell_type": "markdown",
      "source": "A continuacion se hara un resumen estadistico usando describe",
      "metadata": {}
    },
    {
      "cell_type": "code",
      "source": "resumenN=df.describe()\nprint(resumenN)",
      "metadata": {
        "trusted": true
      },
      "outputs": [
        {
          "name": "stdout",
          "text": "          Cantidad       Precio  Cantidad de la Venta\ncount  3000.000000  3000.000000            3000.00000\nmean     50.511000    12.501333             630.78900\nstd      28.819879    15.884587             981.67488\nmin       1.000000     1.000000               1.00000\n25%      25.000000     2.000000              74.00000\n50%      51.000000     3.000000             180.00000\n75%      75.000000    25.000000             576.00000\nmax     100.000000    45.000000            4500.00000\n",
          "output_type": "stream"
        }
      ],
      "execution_count": 15
    },
    {
      "cell_type": "markdown",
      "source": "Resumen estadistico para las variables categoricas\n",
      "metadata": {}
    },
    {
      "cell_type": "code",
      "source": "resumenC=df.describe(include=['O'])\nprint(resumenC)",
      "metadata": {
        "trusted": true
      },
      "outputs": [
        {
          "name": "stdout",
          "text": "        Producto\ncount       3000\nunique         7\ntop     Polvoron\nfreq         489\n",
          "output_type": "stream"
        }
      ],
      "execution_count": 16
    },
    {
      "cell_type": "markdown",
      "source": "Vamos a usar count para poder contar la frecuencia de cada producto",
      "metadata": {}
    },
    {
      "cell_type": "code",
      "source": "productoCount=df['Producto'].value_counts()\nprint(productoCount)",
      "metadata": {
        "trusted": true,
        "scrolled": true
      },
      "outputs": [
        {
          "name": "stdout",
          "text": "Polvoron      489\nPan Molde     465\nCemitas       426\nRosquetes     425\nPan de Pan    417\nRosquillas    409\nPastelitos    369\nName: Producto, dtype: int64\n",
          "output_type": "stream"
        }
      ],
      "execution_count": 17
    },
    {
      "cell_type": "markdown",
      "source": "Visualizacion de Datos",
      "metadata": {}
    },
    {
      "cell_type": "code",
      "source": "import matplotlib.pyplot as mpl\nimport seaborn as sn",
      "metadata": {
        "trusted": true
      },
      "outputs": [
        {
          "ename": "<class 'ModuleNotFoundError'>",
          "evalue": "No module named 'seaborn'",
          "traceback": [
            "\u001b[0;31m---------------------------------------------------------------------------\u001b[0m",
            "\u001b[0;31mModuleNotFoundError\u001b[0m                       Traceback (most recent call last)",
            "Cell \u001b[0;32mIn[4], line 2\u001b[0m\n\u001b[1;32m      1\u001b[0m \u001b[38;5;28;01mimport\u001b[39;00m \u001b[38;5;21;01mmatplotlib\u001b[39;00m\u001b[38;5;21;01m.\u001b[39;00m\u001b[38;5;21;01mpyplot\u001b[39;00m \u001b[38;5;28;01mas\u001b[39;00m \u001b[38;5;21;01mmpl\u001b[39;00m\n\u001b[0;32m----> 2\u001b[0m \u001b[38;5;28;01mimport\u001b[39;00m \u001b[38;5;21;01mseaborn\u001b[39;00m \u001b[38;5;28;01mas\u001b[39;00m \u001b[38;5;21;01msn\u001b[39;00m\n",
            "\u001b[0;31mModuleNotFoundError\u001b[0m: No module named 'seaborn'"
          ],
          "output_type": "error"
        }
      ],
      "execution_count": 4
    },
    {
      "cell_type": "markdown",
      "source": "Con el seaborn se le asigna un tema a los graficos",
      "metadata": {}
    },
    {
      "cell_type": "code",
      "source": "sn.set(style=\"darkgrid\")",
      "metadata": {
        "trusted": true
      },
      "outputs": [
        {
          "ename": "<class 'NameError'>",
          "evalue": "name 'sn' is not defined",
          "traceback": [
            "\u001b[0;31m---------------------------------------------------------------------------\u001b[0m",
            "\u001b[0;31mNameError\u001b[0m                                 Traceback (most recent call last)",
            "Cell \u001b[0;32mIn[2], line 1\u001b[0m\n\u001b[0;32m----> 1\u001b[0m \u001b[43msn\u001b[49m\u001b[38;5;241m.\u001b[39mset(style\u001b[38;5;241m=\u001b[39m\u001b[38;5;124m\"\u001b[39m\u001b[38;5;124mdarkgrid\u001b[39m\u001b[38;5;124m\"\u001b[39m)\n",
            "\u001b[0;31mNameError\u001b[0m: name 'sn' is not defined"
          ],
          "output_type": "error"
        }
      ],
      "execution_count": 2
    },
    {
      "cell_type": "markdown",
      "source": "HISTOGRAMA CANTIDAD DE PRODUCTOS VENDIDAS",
      "metadata": {}
    },
    {
      "cell_type": "code",
      "source": "mpl.figure(figsize(12,7))\nsn.histlop(df['cant_aleatoria'],kde=False, bins=20)\nmpl.tittle('CProductos Vendidos')\nmpl.xlabel('Cantidad')\nmpl.ylabel('Frecuencia')\nmpl.show()\n",
      "metadata": {
        "trusted": true
      },
      "outputs": [
        {
          "ename": "<class 'NameError'>",
          "evalue": "name 'figsize' is not defined",
          "traceback": [
            "\u001b[0;31m---------------------------------------------------------------------------\u001b[0m",
            "\u001b[0;31mNameError\u001b[0m                                 Traceback (most recent call last)",
            "Cell \u001b[0;32mIn[3], line 1\u001b[0m\n\u001b[0;32m----> 1\u001b[0m mpl\u001b[38;5;241m.\u001b[39mfigure(\u001b[43mfigsize\u001b[49m(\u001b[38;5;241m12\u001b[39m,\u001b[38;5;241m7\u001b[39m))\n\u001b[1;32m      2\u001b[0m sn\u001b[38;5;241m.\u001b[39mhistlop(df[\u001b[38;5;124m'\u001b[39m\u001b[38;5;124mCantidad\u001b[39m\u001b[38;5;124m'\u001b[39m],kde\u001b[38;5;241m=\u001b[39m\u001b[38;5;28;01mFalse\u001b[39;00m, bins\u001b[38;5;241m=\u001b[39m\u001b[38;5;241m20\u001b[39m)\n\u001b[1;32m      3\u001b[0m mpl\u001b[38;5;241m.\u001b[39mtittle(\u001b[38;5;124m'\u001b[39m\u001b[38;5;124mCProductos Vendidos\u001b[39m\u001b[38;5;124m'\u001b[39m)\n",
            "\u001b[0;31mNameError\u001b[0m: name 'figsize' is not defined"
          ],
          "output_type": "error"
        }
      ],
      "execution_count": 3
    },
    {
      "cell_type": "markdown",
      "source": "Histograma de Precio de Productos\n",
      "metadata": {}
    },
    {
      "cell_type": "code",
      "source": "mpl.figure(figsize(12,7))\nsn.histlop(df['precioUnit'],kde=False, bins=20)\nmpl.tittle('Precio de los Productos')\nmpl.xlabel('Precio')\nmpl.ylabel('Frecuencia')\nmpl.show()",
      "metadata": {
        "trusted": true
      },
      "outputs": [],
      "execution_count": null
    },
    {
      "cell_type": "markdown",
      "source": "Histograma Total de Ventas",
      "metadata": {}
    },
    {
      "cell_type": "code",
      "source": "mpl.figure(figsize(12,7))\nsn.histlop(df['total_venta'],kde=False, bins=20)\nmpl.tittle('Total de las Ventas')\nmpl.xlabel('Total Venta')\nmpl.ylabel('Frecuencia')\nmpl.show()",
      "metadata": {
        "trusted": true
      },
      "outputs": [],
      "execution_count": null
    }
  ]
}