{
 "cells": [
  {
   "cell_type": "markdown",
   "id": "a43e3056-3562-4c1e-b58e-5bc1b8205f40",
   "metadata": {},
   "source": [
    "INTRODUCCION:\n",
    "En este notebook modelamos un sistema de colas en un hospital utilizando simulaciones. La simulación tiene como objetivo analizar el flujo de pacientes a través de diferentes unidades del hospital y la disponibilidad de camas en cada una de ellas. Utilizamos la biblioteca simpy para gestionar la simulación de eventos discretos y pandas para almacenar y analizar los datos obtenidos."
   ]
  },
  {
   "cell_type": "markdown",
   "id": "dfb255f5-a76e-4e41-acb1-75e7ea572021",
   "metadata": {},
   "source": [
    "OBJETIVO:\n",
    "El objetivo de esta simulación es modelar el flujo de pacientes en un hospital con distintas unidades de tratamiento, cada una con una capacidad limitada. Queremos analizar cómo se manejan los pacientes a través de estas unidades y evaluar el impacto de las capacidades de las unidades en los tiempos de espera y tratamiento."
   ]
  },
  {
   "cell_type": "markdown",
   "id": "61b841aa-e8f9-429b-ad1e-3056a2a8fff8",
   "metadata": {},
   "source": [
    "DESCRIPCION:\n",
    "En un hospital, los pacientes llegan para recibir diferentes tipos de tratamiento, que requieren distintos tipos de recursos limitados (camas). Cada unidad del hospital (Cuidados Intensivos, Urgencias, Consultas Externas) tiene una capacidad máxima, lo que significa que solo un número limitado de pacientes puede ser atendido en un momento dado. Los pacientes deben esperar si no hay recursos disponibles, lo que puede causar tiempos de espera adicionales."
   ]
  },
  {
   "cell_type": "markdown",
   "id": "0711faf2-26b1-4f30-ad77-4a002d08e06c",
   "metadata": {},
   "source": [
    "DESCRIPCION DE PROBLEMAS DE COLAS: Cada unidad tiene una capacidad limitada de camas, y los pacientes deben esperar su turno si no hay camas disponibles. La simulación ayuda a entender cómo los tiempos de espera y la disponibilidad de camas afectan el flujo de pacientes."
   ]
  },
  {
   "cell_type": "markdown",
   "id": "dd682301-f43e-49a7-a6f3-8ee2b44bd876",
   "metadata": {},
   "source": [
    "DESAROLLO DE SIMULACION"
   ]
  },
  {
   "cell_type": "code",
   "execution_count": 258,
   "id": "43eb9653-00f7-4e81-8abe-c51ed59bc769",
   "metadata": {},
   "outputs": [],
   "source": [
    "import simpy\n",
    "import pandas as pd\n",
    "import numpy as np\n",
    "import random"
   ]
  },
  {
   "cell_type": "markdown",
   "id": "6ebeed74-1764-4b26-8f80-69768ef696bb",
   "metadata": {},
   "source": [
    "Cracion de Clase Paciente:\n",
    "\n",
    "Se crea la clase de paciente que incluye el env que hace referencia al entorno donde ocurren todos los enventos, sel action que inicia el proceso de simulacion del paciente y hospital que referencia al hospital que llega el paciente. "
   ]
  },
  {
   "cell_type": "markdown",
   "id": "73eddfe8-a671-42a5-ad4b-93c5a4d0727c",
   "metadata": {},
   "source": [
    "Definicion de proceso y Uso de container con sus recursos (Camas):\n",
    "\n",
    "se define el proceso del paciente donde se registra el tiempo de llagada de un paciente y usamos container para los recursos limitados que en este caso son las camas disponibles en la unidad de tratamiento, el paciente tomara uno de estos recursos es decir la cama. se selecciona aleatoriamente un tipo de tratamiento y con timeout se simula el tiempo que el paciente pasara en la cama y se registra el tiempo con que el paciente es dado de alta con env.now y con append se almacenan los datos del paciente."
   ]
  },
  {
   "cell_type": "code",
   "execution_count": 262,
   "id": "5d92b19c-198c-499e-8157-22791678714d",
   "metadata": {},
   "outputs": [],
   "source": [
    "class Paciente:\n",
    "    def __init__(self, env, hospital, paciente_id):\n",
    "        self.env = env\n",
    "        self.hospital = hospital\n",
    "        self.paciente_id = paciente_id\n",
    "        self.action = env.process(self.proceso())\n",
    "\n",
    "    def proceso(self):\n",
    "        # Tiempo de llegada del paciente\n",
    "        llegada = int(self.env.now)\n",
    "        print(f'Paciente {self.paciente_id} llega al hospital en el tiempo {llegada}.')\n",
    "        \n",
    "        # Selección aleatoria de tipo de tratamiento\n",
    "        tipo_tratamiento = random.choice(list(self.hospital.unidades.keys()))\n",
    "        \n",
    "        # Intentar obtener una cama en la unidad seleccionada\n",
    "        with self.hospital.unidades[tipo_tratamiento].get(1) as cama:\n",
    "            yield cama\n",
    "            print(f'Paciente {self.paciente_id} comienza tratamiento en {tipo_tratamiento} en el tiempo {int(self.env.now)}.')\n",
    "            \n",
    "            # Tiempo de tratamiento como entero\n",
    "            tiempo_tratamiento = random.randint(5, 30)\n",
    "            yield self.env.timeout(tiempo_tratamiento)\n",
    "            \n",
    "            # Tiempo de alta del paciente\n",
    "            alta = int(self.env.now)\n",
    "            print(f'Paciente {self.paciente_id} dado de alta de {tipo_tratamiento} en el tiempo {alta}.')\n",
    "            \n",
    "            # Registro del tratamiento\n",
    "            self.hospital.registro.append({\n",
    "                'Paciente_ID': self.paciente_id,\n",
    "                'Tiempo_Llegada': llegada,\n",
    "                'Tipo_Tratamiento': tipo_tratamiento,\n",
    "                'Tiempo_Alta': alta\n",
    "            })"
   ]
  },
  {
   "cell_type": "markdown",
   "id": "bf29b3c7-1486-4d06-9962-df8a5faada13",
   "metadata": {},
   "source": [
    "Definicion de la clase hospital y uso de container:\n",
    "\n",
    "Cada unidad de tratamiento es un Container con una capacidad inicial y una capacidad máxima que representa el número de camas disponibles, tambien tiene registro de pacientes."
   ]
  },
  {
   "cell_type": "markdown",
   "id": "dfea1a10-902f-4003-95ec-ad8da5444878",
   "metadata": {},
   "source": [
    "Definicion de llegada de paciente:\n",
    "\n",
    "simula la llegada de pacientes continua al hospital y con un intervalo se define el tiempo promedio de la llegada entre un paciente y otro, ademas genera un tiempo entre llegadas basado en una distribución exponencial, convertido a un entero y se crea un nuevo paciente que inicia su proceso en el hospital."
   ]
  },
  {
   "cell_type": "code",
   "execution_count": 266,
   "id": "37bebe18-8854-464e-a2dc-ac322109fcc0",
   "metadata": {},
   "outputs": [],
   "source": [
    "# Clase que representa al hospital\n",
    "class Hospital:\n",
    "    def __init__(self, env):\n",
    "        self.env = env\n",
    "        self.unidades = {\n",
    "            'Cuidados Intensivos': simpy.Container(env, init=2, capacity=2),\n",
    "            'Urgencias': simpy.Container(env, init=3, capacity=3),\n",
    "            'Consultas Externas': simpy.Container(env, init=5, capacity=5)\n",
    "        }\n",
    "        self.registro = []\n",
    "\n",
    "    def llegada_pacientes(self, intervalo):\n",
    "        paciente_id = 1\n",
    "        while True:\n",
    "            # Intervalo de tiempo entre llegadas convertido a entero\n",
    "            yield self.env.timeout(int(random.expovariate(1.0 / intervalo)))\n",
    "            Paciente(self.env, self, paciente_id)\n",
    "            paciente_id += 1"
   ]
  },
  {
   "cell_type": "markdown",
   "id": "b3d328cc-82c5-48ce-b683-69a60ecc04ba",
   "metadata": {},
   "source": [
    "Configuracion de la simulacion:\n",
    "\n",
    "se crea el entorno de la simulacion con env y se genera una instancia del hospital en ese entorno. Se inicia el proceso de llegada de pacientes al hospital con un intervalo promedio de 10 unidades de tiempo y Ejecuta la simulación durante 500 unidades de tiempo."
   ]
  },
  {
   "cell_type": "code",
   "execution_count": 269,
   "id": "96f7e3fc-1341-47ad-9fc0-9d31da685891",
   "metadata": {},
   "outputs": [
    {
     "name": "stdout",
     "output_type": "stream",
     "text": [
      "Paciente 1 llega al hospital en el tiempo 19.\n",
      "Paciente 1 comienza tratamiento en Urgencias en el tiempo 19.\n",
      "Paciente 2 llega al hospital en el tiempo 28.\n",
      "Paciente 2 comienza tratamiento en Cuidados Intensivos en el tiempo 28.\n",
      "Paciente 1 dado de alta de Urgencias en el tiempo 30.\n",
      "Paciente 3 llega al hospital en el tiempo 36.\n",
      "Paciente 3 comienza tratamiento en Urgencias en el tiempo 36.\n",
      "Paciente 4 llega al hospital en el tiempo 38.\n",
      "Paciente 4 comienza tratamiento en Cuidados Intensivos en el tiempo 38.\n",
      "Paciente 2 dado de alta de Cuidados Intensivos en el tiempo 39.\n",
      "Paciente 3 dado de alta de Urgencias en el tiempo 44.\n",
      "Paciente 4 dado de alta de Cuidados Intensivos en el tiempo 48.\n",
      "Paciente 5 llega al hospital en el tiempo 69.\n",
      "Paciente 6 llega al hospital en el tiempo 75.\n",
      "Paciente 7 llega al hospital en el tiempo 80.\n",
      "Paciente 8 llega al hospital en el tiempo 101.\n",
      "Paciente 8 comienza tratamiento en Urgencias en el tiempo 101.\n",
      "Paciente 9 llega al hospital en el tiempo 110.\n",
      "Paciente 10 llega al hospital en el tiempo 113.\n",
      "Paciente 8 dado de alta de Urgencias en el tiempo 123.\n",
      "Paciente 11 llega al hospital en el tiempo 139.\n",
      "Paciente 11 comienza tratamiento en Consultas Externas en el tiempo 139.\n",
      "Paciente 11 dado de alta de Consultas Externas en el tiempo 144.\n",
      "Paciente 12 llega al hospital en el tiempo 154.\n",
      "Paciente 12 comienza tratamiento en Consultas Externas en el tiempo 154.\n",
      "Paciente 13 llega al hospital en el tiempo 161.\n",
      "Paciente 14 llega al hospital en el tiempo 166.\n",
      "Paciente 12 dado de alta de Consultas Externas en el tiempo 174.\n",
      "Paciente 15 llega al hospital en el tiempo 202.\n",
      "Paciente 16 llega al hospital en el tiempo 210.\n",
      "Paciente 17 llega al hospital en el tiempo 218.\n",
      "Paciente 18 llega al hospital en el tiempo 228.\n",
      "Paciente 19 llega al hospital en el tiempo 229.\n",
      "Paciente 19 comienza tratamiento en Consultas Externas en el tiempo 229.\n",
      "Paciente 20 llega al hospital en el tiempo 230.\n",
      "Paciente 21 llega al hospital en el tiempo 236.\n",
      "Paciente 21 comienza tratamiento en Consultas Externas en el tiempo 236.\n",
      "Paciente 19 dado de alta de Consultas Externas en el tiempo 243.\n",
      "Paciente 21 dado de alta de Consultas Externas en el tiempo 247.\n",
      "Paciente 22 llega al hospital en el tiempo 253.\n",
      "Paciente 22 comienza tratamiento en Consultas Externas en el tiempo 253.\n",
      "Paciente 23 llega al hospital en el tiempo 254.\n",
      "Paciente 24 llega al hospital en el tiempo 254.\n",
      "Paciente 25 llega al hospital en el tiempo 259.\n",
      "Paciente 26 llega al hospital en el tiempo 270.\n",
      "Paciente 22 dado de alta de Consultas Externas en el tiempo 283.\n",
      "Paciente 27 llega al hospital en el tiempo 317.\n",
      "Paciente 28 llega al hospital en el tiempo 317.\n",
      "Paciente 29 llega al hospital en el tiempo 365.\n",
      "Paciente 30 llega al hospital en el tiempo 377.\n",
      "Paciente 31 llega al hospital en el tiempo 387.\n",
      "Paciente 32 llega al hospital en el tiempo 418.\n",
      "Paciente 33 llega al hospital en el tiempo 427.\n",
      "Paciente 34 llega al hospital en el tiempo 430.\n",
      "Paciente 35 llega al hospital en el tiempo 438.\n",
      "Paciente 36 llega al hospital en el tiempo 438.\n",
      "Paciente 37 llega al hospital en el tiempo 438.\n",
      "Paciente 38 llega al hospital en el tiempo 439.\n",
      "Paciente 39 llega al hospital en el tiempo 445.\n",
      "Paciente 40 llega al hospital en el tiempo 460.\n",
      "Paciente 41 llega al hospital en el tiempo 475.\n",
      "Paciente 42 llega al hospital en el tiempo 478.\n",
      "Paciente 43 llega al hospital en el tiempo 481.\n",
      "Paciente 44 llega al hospital en el tiempo 496.\n",
      "Paciente 45 llega al hospital en el tiempo 496.\n"
     ]
    }
   ],
   "source": [
    "env = simpy.Environment()\n",
    "hospital = Hospital(env)\n",
    "env.process(hospital.llegada_pacientes(intervalo=10))\n",
    "env.run(until=500)\n"
   ]
  },
  {
   "cell_type": "markdown",
   "id": "41f44f03-c67f-4d6b-bb5e-a1173ec5376f",
   "metadata": {},
   "source": [
    "Almacenamiento de Datos: \n",
    "\n",
    "Se convierte el registro de pacientes en un dataframe y se muestra el dataframe con los datos recolectados durante la simulacion."
   ]
  },
  {
   "cell_type": "code",
   "execution_count": 272,
   "id": "07c2bf07-ee77-4012-8f52-3524f912b9dd",
   "metadata": {},
   "outputs": [
    {
     "name": "stdout",
     "output_type": "stream",
     "text": [
      "   Paciente_ID  Tiempo_Llegada     Tipo_Tratamiento  Tiempo_Alta\n",
      "0            1              19            Urgencias           30\n",
      "1            2              28  Cuidados Intensivos           39\n",
      "2            3              36            Urgencias           44\n",
      "3            4              38  Cuidados Intensivos           48\n",
      "4            8             101            Urgencias          123\n",
      "5           11             139   Consultas Externas          144\n",
      "6           12             154   Consultas Externas          174\n",
      "7           19             229   Consultas Externas          243\n",
      "8           21             236   Consultas Externas          247\n",
      "9           22             253   Consultas Externas          283\n"
     ]
    }
   ],
   "source": [
    "df = pd.DataFrame(hospital.registro)\n",
    "print(df)\n"
   ]
  },
  {
   "cell_type": "markdown",
   "id": "89ec2a03-9699-4992-bb6f-77b79db20390",
   "metadata": {},
   "source": [
    "Análisis de la Simulación"
   ]
  },
  {
   "cell_type": "code",
   "execution_count": 275,
   "id": "710b90a3-511c-4c69-ba5b-f0550246668a",
   "metadata": {},
   "outputs": [
    {
     "data": {
      "image/png": "[encoded data removed]",
      "text/plain": [
       "<Figure size 1000x600 with 1 Axes>"
      ]
     },
     "metadata": {},
     "output_type": "display_data"
    },
    {
     "name": "stdout",
     "output_type": "stream",
     "text": [
      "                     count       mean       std   min    25%   50%    75%  \\\n",
      "Tipo_Tratamiento                                                            \n",
      "Consultas Externas     5.0  16.000000  9.513149   5.0  11.00  14.0  20.00   \n",
      "Cuidados Intensivos    2.0  10.500000  0.707107  10.0  10.25  10.5  10.75   \n",
      "Urgencias              3.0  13.666667  7.371115   8.0   9.50  11.0  16.50   \n",
      "\n",
      "                      max  \n",
      "Tipo_Tratamiento           \n",
      "Consultas Externas   30.0  \n",
      "Cuidados Intensivos  11.0  \n",
      "Urgencias            22.0  \n",
      "Porcentaje de Utilización de Recursos por Tipo de Tratamiento:\n",
      "Tipo_Tratamiento\n",
      "Consultas Externas     50.0\n",
      "Urgencias              30.0\n",
      "Cuidados Intensivos    20.0\n",
      "Name: proportion, dtype: float64\n"
     ]
    }
   ],
   "source": [
    "import matplotlib.pyplot as plt\n",
    "\n",
    "# Conteo de pacientes por tipo de tratamiento\n",
    "plt.figure(figsize=(10, 6))\n",
    "df['Tipo_Tratamiento'].value_counts().plot(kind='bar', color='skyblue')\n",
    "plt.title('Número de Pacientes por Tipo de Tratamiento')\n",
    "plt.xlabel('Tipo de Tratamiento')\n",
    "plt.ylabel('Número de Pacientes')\n",
    "plt.grid(True)\n",
    "plt.show()\n",
    "\n",
    "df['Tiempo_Espera'] = df['Tiempo_Alta'] - df['Tiempo_Llegada']\n",
    "\n",
    "stats = df.groupby('Tipo_Tratamiento')['Tiempo_Espera'].describe()\n",
    "print(stats)\n",
    "\n",
    "# Contar pacientes por tipo de tratamiento\n",
    "utilizacion = df['Tipo_Tratamiento'].value_counts(normalize=True) * 100\n",
    "print(\"Porcentaje de Utilización de Recursos por Tipo de Tratamiento:\")\n",
    "print(utilizacion)\n",
    "\n"
   ]
  },
  {
   "cell_type": "markdown",
   "id": "926eb370-4c59-46f9-8635-f3776d17a97b",
   "metadata": {},
   "source": [
    "Preguntas Hechas por el estudiante:\n",
    "\n",
    "1. ¿Como se distribuyen los tiempos de espera entre los diferentes tipos de tratamiento?\n",
    "2. ¿Cual es la unidad más utilizada y cuál es la menos utilizada (mayor uso de recursos)?\n",
    "3. ¿Como afecta el tipo de tratamiento a los tiempos de espera y a la utilización de los recursos?\n",
    "\n",
    "Respuestas segun el Analisis."
   ]
  },
  {
   "cell_type": "markdown",
   "id": "bea394c8-cdb7-43dd-ba02-9719afa8fa97",
   "metadata": {},
   "source": [
    "CONCLUSIONES\n",
    "\n",
    "Independientemente de la aleatoriedad de los datos vemos que los tiempos de espera por cada unidad son altamente variables lo que indica los procedimientos o complejidad de cada proceso segun sea su unidad o la carga de trabajo de esta.\n",
    "Tambien se entiende que las unidades con alta demanda y alta utilización de recursos podrían estar operando a su capacidad máxima, mientras que otras podrían estar infrautilizadas, por lo que se debe hacer una buena planificacion para obtener un equilibrio entre las unidades de tratamiento.\n",
    "Como vemos esta simulacion toma datos aleatorios lo que lo vuelve un sistema flexible por lo que dentro de una planeacion se debe tomar en cuenta la variabilidad y estar preparadas para ajustar la capacidad y los recursos según las necesidades cambiantes."
   ]
  },
  {
   "cell_type": "code",
   "execution_count": null,
   "id": "3cbb21d9-0d62-4995-b7af-3327b3ffb8e6",
   "metadata": {},
   "outputs": [],
   "source": []
  }
 ],
 "metadata": {
  "kernelspec": {
   "display_name": "Python 3 (ipykernel)",
   "language": "python",
   "name": "python3"
  },
  "language_info": {
   "codemirror_mode": {
    "name": "ipython",
    "version": 3
   },
   "file_extension": ".py",
   "mimetype": "text/x-python",
   "name": "python",
   "nbconvert_exporter": "python",
   "pygments_lexer": "ipython3",
   "version": "3.12.4"
  }
 },
 "nbformat": 4,
 "nbformat_minor": 5
}
